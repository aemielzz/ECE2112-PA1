{
 "cells": [
  {
   "cell_type": "markdown",
   "id": "c197c332-2416-47a9-a039-1d2a9867c0c3",
   "metadata": {},
   "source": [
    "### <center> EXPERIMENT 1\n",
    "## <center> INTRODUCTION TO PYTHON PROGRAMMING"
   ]
  },
  {
   "cell_type": "markdown",
   "id": "80b2a648-8267-444b-88a0-919265113610",
   "metadata": {},
   "source": [
    "##### Name: CRUZ, Amiel Elestin M.\n",
    "##### Section: 2ECE-B\n",
    "##### Date Submitted: August 26, 2025"
   ]
  },
  {
   "cell_type": "markdown",
   "id": "82c40e55-59ee-4d19-91cd-b14449b37225",
   "metadata": {},
   "source": [
    "#### 1. ALPHABET SOUP PROBLEM: Create a function that takes a string and returns a string with its letters in alphabetical order."
   ]
  },
  {
   "cell_type": "code",
   "execution_count": 7,
   "id": "53695011-332a-4a52-8357-408ccfedbfb1",
   "metadata": {},
   "outputs": [],
   "source": [
    "def alphabet_soup (s):\n",
    "    str =''.join(sorted(s))\n",
    "    return str"
   ]
  },
  {
   "cell_type": "code",
   "execution_count": 9,
   "id": "e9ebe3f1-a4d1-4d26-b54b-c31289a7d2fd",
   "metadata": {},
   "outputs": [
    {
     "name": "stdout",
     "output_type": "stream",
     "text": [
      "ehllo\n"
     ]
    }
   ],
   "source": [
    "print (alphabet_soup(\"hello\"))"
   ]
  },
  {
   "cell_type": "code",
   "execution_count": 11,
   "id": "91f4487e-035d-4368-8081-c71f0e2a819f",
   "metadata": {},
   "outputs": [
    {
     "name": "stdout",
     "output_type": "stream",
     "text": [
      "ahpstuw\n"
     ]
    }
   ],
   "source": [
    "print (alphabet_soup(\"whatsup\"))"
   ]
  },
  {
   "cell_type": "markdown",
   "id": "d07385b6-aca0-4dd1-baec-495b209aca13",
   "metadata": {},
   "source": [
    "#### 2. EMOTICON PROBLEM: Create a function that changes specific words into emoticons. Given a sentence as a string, replace the words smile, grin, sad, and mad with their corresponding emoticon:"
   ]
  },
  {
   "cell_type": "code",
   "execution_count": 17,
   "id": "39daec3e-8ffa-4192-a7e4-c05dac242597",
   "metadata": {},
   "outputs": [],
   "source": [
    "def emoticon (a):\n",
    "    return a.replace (\"smile\",\":)\").replace (\"grin\",\":D\").replace (\"sad\",\":((\").replace (\"mad\",\">:(\")"
   ]
  },
  {
   "cell_type": "code",
   "execution_count": 21,
   "id": "a41ae053-d6a2-4cbd-b95e-e782a41000ab",
   "metadata": {},
   "outputs": [
    {
     "name": "stdout",
     "output_type": "stream",
     "text": [
      "you always make me :)\n"
     ]
    }
   ],
   "source": [
    "print (emoticon(\"you always make me smile\"))"
   ]
  },
  {
   "cell_type": "code",
   "execution_count": 23,
   "id": "4ca5429c-6833-4ac7-a642-16fe2d856361",
   "metadata": {},
   "outputs": [
    {
     "name": "stdout",
     "output_type": "stream",
     "text": [
      "I am :((\n"
     ]
    }
   ],
   "source": [
    "print (emoticon(\"I am sad\"))"
   ]
  },
  {
   "cell_type": "markdown",
   "id": "be31e077-9ed2-494d-b73d-75deb81fdca8",
   "metadata": {},
   "source": [
    "#### 3. UNPACKING LIST PROBLEM: Unpack the list write your code here into three variables, being first, middle, and last, with middle being everything in between the first and last element. Then print all three variables."
   ]
  },
  {
   "cell_type": "code",
   "execution_count": 28,
   "id": "42663a49-51d0-44b0-a3e4-874be02ea8be",
   "metadata": {},
   "outputs": [
    {
     "name": "stdout",
     "output_type": "stream",
     "text": [
      "first: Luneta middle: ['Intramuros', 'Fort Santiago'] last: Binondo\n"
     ]
    }
   ],
   "source": [
    "T = [\"Luneta\", \"Intramuros\", \"Fort Santiago\", \"Binondo\"]\n",
    "\n",
    "print(\"first:\",T[0], \"middle:\",T[1:3], \"last:\",T[-1])"
   ]
  }
 ],
 "metadata": {
  "kernelspec": {
   "display_name": "Python 3 (ipykernel)",
   "language": "python",
   "name": "python3"
  },
  "language_info": {
   "codemirror_mode": {
    "name": "ipython",
    "version": 3
   },
   "file_extension": ".py",
   "mimetype": "text/x-python",
   "name": "python",
   "nbconvert_exporter": "python",
   "pygments_lexer": "ipython3",
   "version": "3.12.4"
  }
 },
 "nbformat": 4,
 "nbformat_minor": 5
}
